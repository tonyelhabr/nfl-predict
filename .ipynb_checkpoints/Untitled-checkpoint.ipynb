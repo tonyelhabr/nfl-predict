{
 "cells": [
  {
   "cell_type": "code",
   "execution_count": 1,
   "metadata": {
    "collapsed": true
   },
   "outputs": [],
   "source": [
    "import csv\n",
    "import numpy as np"
   ]
  },
  {
   "cell_type": "code",
   "execution_count": 2,
   "metadata": {
    "collapsed": true
   },
   "outputs": [],
   "source": [
    "filepath = 'data-raw/srs-example.csv'\n",
    "headers = True"
   ]
  },
  {
   "cell_type": "code",
   "execution_count": 3,
   "metadata": {
    "code_folding": [],
    "collapsed": true
   },
   "outputs": [],
   "source": [
    "def mean(list):\n",
    "    return (float(sum(list))/len(list))\n",
    "\n",
    "class Team(object):\n",
    "    def __init__(self, name, spreads, opponents):\n",
    "        self.name = name\n",
    "        self.spreads = spreads\n",
    "        self.opponents = opponents\n",
    "\n",
    "    def set_average_spread(self):\n",
    "        self.spread = mean(self.spreads)"
   ]
  },
  {
   "cell_type": "code",
   "execution_count": 4,
   "metadata": {},
   "outputs": [
    {
     "name": "stdout",
     "output_type": "stream",
     "text": [
      "Boston Atlanta\n",
      "Dallas Chicago\n",
      "Eugene Fairbanks\n",
      "Atlanta Chicago\n",
      "Eugene Boston\n",
      "Fairbanks Dallas\n",
      "Dallas Atlanta\n",
      "Boston Fairbanks\n",
      "Chicago Eugene\n"
     ]
    }
   ],
   "source": [
    "csvfile = open(filepath, 'r')\n",
    "gamereader = csv.reader(csvfile, dialect = 'excel')\n",
    "if headers:\n",
    "    next(gamereader)\n",
    "\n",
    "#store all teams in a dict as \"team name\": team object\n",
    "teams = {}\n",
    "\n",
    "#loop through games and construct team objects\n",
    "for game in gamereader:\n",
    "    t1 = game[0]\n",
    "    t2 = game[1]\n",
    "    # print(t1, t2)\n",
    "    t1spread = int(game[2]) - int(game[3])\n",
    "    t2spread = -t1spread\n",
    "\n",
    "    if t1 in teams:\n",
    "        teams[t1].spreads.append(t1spread)\n",
    "        teams[t1].opponents.append(t2)\n",
    "    else:\n",
    "        teams[t1] = Team(t1, [t1spread], [t2])\n",
    "\n",
    "    if t2 in teams:\n",
    "        teams[t2].spreads.append(t2spread)\n",
    "        teams[t2].opponents.append(t1)\n",
    "    else:\n",
    "        teams[t2] = Team(t2, [t2spread], [t1])\n",
    "\n",
    "csvfile.close()\n",
    "\n",
    "#calculate the means\n",
    "for team in teams.keys():\n",
    "    teams[team].set_average_spread()"
   ]
  },
  {
   "cell_type": "code",
   "execution_count": 5,
   "metadata": {
    "collapsed": true
   },
   "outputs": [],
   "source": [
    "#first matrix with the coefficients of each of the variables\n",
    "terms = []\n",
    "#seccond matrix with the constant term (-average spread)\n",
    "solutions = []\n",
    "for team in teams.keys():\n",
    "    #add in a row for each team\n",
    "    row = []\n",
    "\n",
    "    #rating = average spread + average opponent rating\n",
    "    #-> -average spread = -rating + average opponent rating\n",
    "    #-> -average spread = -rating + \n",
    "    #(number of opponents/1) * (opponent 1 rating+opponent 2 rating...)\n",
    "    #each row of the matrix describes right side equation\n",
    "    for opp in teams.keys():\n",
    "        if opp == teams[team].name:\n",
    "            row.append(-1)\n",
    "        elif opp in teams[team].opponents:\n",
    "            row.append(1.0/len(teams[team].opponents))\n",
    "        else:\n",
    "            row.append(0)\n",
    "    terms.append(row)\n",
    "\n",
    "    #each row of this matrix describes the left side of the above equation\n",
    "    solutions.append(-teams[team].spread )"
   ]
  },
  {
   "cell_type": "code",
   "execution_count": 6,
   "metadata": {},
   "outputs": [
    {
     "name": "stdout",
     "output_type": "stream",
     "text": [
      "[[-1.          0.33333333  0.          0.          0.33333333  0.33333333]\n",
      " [ 0.33333333 -1.          0.33333333  0.33333333  0.          0.        ]\n",
      " [ 0.          0.33333333 -1.          0.33333333  0.          0.33333333]\n",
      " [ 0.          0.33333333  0.33333333 -1.          0.33333333  0.        ]\n",
      " [ 0.33333333  0.          0.          0.33333333 -1.          0.33333333]\n",
      " [ 0.33333333  0.          0.33333333  0.          0.33333333 -1.        ]]\n",
      "[ 11.          -4.66666667   0.66666667   9.33333333  -2.         -14.33333333]\n",
      "[ -6.75102041  -0.55102041   0.24897959  -9.15102041   0.84897959\n",
      "  12.44897959]\n"
     ]
    }
   ],
   "source": [
    "array1 = np.array(terms)\n",
    "array2 = np.array(solutions)\n",
    "solutions  = np.linalg.solve(array1, array2)\n",
    "print(array1)\n",
    "print(array2)\n",
    "print(solutions)"
   ]
  },
  {
   "cell_type": "code",
   "execution_count": 9,
   "metadata": {},
   "outputs": [],
   "source": [
    "rankings = list(zip([teams[team].name for team in teams.keys()], [solution for solution in solutions]))"
   ]
  },
  {
   "cell_type": "code",
   "execution_count": 13,
   "metadata": {},
   "outputs": [
    {
     "name": "stdout",
     "output_type": "stream",
     "text": [
      "[('Boston', -6.7510204081632645), ('Atlanta', -0.55102040816326392), ('Dallas', 0.24897959183673526), ('Chicago', -9.151020408163264), ('Eugene', 0.84897959183673422), ('Fairbanks', 12.448979591836734)]\n"
     ]
    }
   ],
   "source": [
    "print(rankings)"
   ]
  },
  {
   "cell_type": "code",
   "execution_count": null,
   "metadata": {
    "collapsed": true
   },
   "outputs": [],
   "source": []
  }
 ],
 "metadata": {
  "kernelspec": {
   "display_name": "Python 3",
   "language": "python",
   "name": "python3"
  },
  "language_info": {
   "codemirror_mode": {
    "name": "ipython",
    "version": 3
   },
   "file_extension": ".py",
   "mimetype": "text/x-python",
   "name": "python",
   "nbconvert_exporter": "python",
   "pygments_lexer": "ipython3",
   "version": "3.6.1"
  }
 },
 "nbformat": 4,
 "nbformat_minor": 2
}

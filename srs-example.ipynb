{
 "cells": [
  {
   "cell_type": "code",
   "execution_count": 1,
   "metadata": {},
   "outputs": [],
   "source": [
    "import csv\n",
    "import numpy as np\n",
    "from collections import OrderedDict"
   ]
  },
  {
   "cell_type": "code",
   "execution_count": 2,
   "metadata": {},
   "outputs": [],
   "source": [
    "filepath = 'data-raw/srs-example.csv'\n",
    "headers = True"
   ]
  },
  {
   "cell_type": "code",
   "execution_count": 3,
   "metadata": {
    "code_folding": []
   },
   "outputs": [],
   "source": [
    "def mean(list):\n",
    "    return (float(sum(list))/len(list))\n",
    "\n",
    "class Team(object):\n",
    "    def __init__(self, name, spreads, opponents):\n",
    "        self.name = name\n",
    "        self.spreads = spreads\n",
    "        self.opponents = opponents\n",
    "\n",
    "    def set_average_spread(self):\n",
    "        self.spread = mean(self.spreads)"
   ]
  },
  {
   "cell_type": "code",
   "execution_count": 4,
   "metadata": {},
   "outputs": [],
   "source": [
    "csvfile = open(filepath, 'r')\n",
    "gamereader = csv.reader(csvfile, dialect = 'excel')\n",
    "if headers:\n",
    "    next(gamereader)\n",
    "\n",
    "#store all teams in a dict as \"team name\": team object\n",
    "# teams = {}\n",
    "teams = OrderedDict()\n",
    "\n",
    "#loop through games and construct team objects\n",
    "for game in gamereader:\n",
    "    t1 = game[0]\n",
    "    t2 = game[1]\n",
    "    # print(t1, t2)\n",
    "    t1spread = int(game[2]) - int(game[3])\n",
    "    t2spread = -t1spread\n",
    "\n",
    "    if t1 in teams:\n",
    "        teams[t1].spreads.append(t1spread)\n",
    "        teams[t1].opponents.append(t2)\n",
    "    else:\n",
    "        teams[t1] = Team(t1, [t1spread], [t2])\n",
    "\n",
    "    if t2 in teams:\n",
    "        teams[t2].spreads.append(t2spread)\n",
    "        teams[t2].opponents.append(t1)\n",
    "    else:\n",
    "        teams[t2] = Team(t2, [t2spread], [t1])\n",
    "\n",
    "csvfile.close()\n",
    "\n",
    "#calculate the means\n",
    "for team in teams.keys():\n",
    "    teams[team].set_average_spread()"
   ]
  },
  {
   "cell_type": "code",
   "execution_count": 5,
   "metadata": {},
   "outputs": [
    {
     "name": "stdout",
     "output_type": "stream",
     "text": [
      "Atlanta 4.666666666666667\n",
      "Boston -11.0\n",
      "Chicago -9.333333333333334\n",
      "Dallas -0.6666666666666666\n",
      "Eugene 9.333333333333334\n",
      "Fairbanks 7.0\n"
     ]
    }
   ],
   "source": [
    "for team in teams.keys():\n",
    "    print(teams[team].name, teams[team].spread)"
   ]
  },
  {
   "cell_type": "code",
   "execution_count": 33,
   "metadata": {},
   "outputs": [],
   "source": [
    "#first matrix with the coefficients of each of the variables\n",
    "terms0 = []\n",
    "#seccond matrix with the constant term (-average spread)\n",
    "solutions0 = []\n",
    "for team in teams.keys():\n",
    "    #add in a row for each team\n",
    "    row = []\n",
    "\n",
    "    #rating = average spread + average opponent rating\n",
    "    #-> -average spread = -rating + average opponent rating\n",
    "    #-> -average spread = -rating + \n",
    "    #(number of opponents/1) * (opponent 1 rating+opponent 2 rating...)\n",
    "    #each row of the matrix describes right side equation\n",
    "    for opp in teams.keys():\n",
    "        if opp == teams[team].name:\n",
    "            row.append(-1)\n",
    "        elif opp in teams[team].opponents:\n",
    "            row.append(1.0/len(teams[team].opponents))\n",
    "        else:\n",
    "            row.append(0)\n",
    "    terms0.append(row)\n",
    "\n",
    "    #each row of this matrix describes the left side of the above equation\n",
    "    solutions0.append(-teams[team].spread)"
   ]
  },
  {
   "cell_type": "code",
   "execution_count": 34,
   "metadata": {},
   "outputs": [
    {
     "name": "stdout",
     "output_type": "stream",
     "text": [
      "[[-1, 0.3333333333333333, 0.3333333333333333, 0.3333333333333333, 0, 0], [0.3333333333333333, -1, 0, 0, 0.3333333333333333, 0.3333333333333333], [0.3333333333333333, 0, -1, 0.3333333333333333, 0.3333333333333333, 0], [0.3333333333333333, 0, 0.3333333333333333, -1, 0, 0.3333333333333333], [0, 0.3333333333333333, 0.3333333333333333, 0, -1, 0.3333333333333333], [0, 0.3333333333333333, 0, 0.3333333333333333, 0.3333333333333333, -1]]\n"
     ]
    }
   ],
   "source": [
    "print(terms0)"
   ]
  },
  {
   "cell_type": "code",
   "execution_count": 46,
   "metadata": {},
   "outputs": [
    {
     "data": {
      "text/plain": [
       "array([[-2.00159983e+15, -2.00159983e+15, -2.00159983e+15,\n",
       "        -2.00159983e+15, -2.00159983e+15, -2.00159983e+15],\n",
       "       [-2.00159983e+15, -2.00159983e+15, -2.00159983e+15,\n",
       "        -2.00159983e+15, -2.00159983e+15, -2.00159983e+15],\n",
       "       [-2.00159983e+15, -2.00159983e+15, -2.00159983e+15,\n",
       "        -2.00159983e+15, -2.00159983e+15, -2.00159983e+15],\n",
       "       [-2.00159983e+15, -2.00159983e+15, -2.00159983e+15,\n",
       "        -2.00159983e+15, -2.00159983e+15, -2.00159983e+15],\n",
       "       [-2.00159983e+15, -2.00159983e+15, -2.00159983e+15,\n",
       "        -2.00159983e+15, -2.00159983e+15, -2.00159983e+15],\n",
       "       [-2.00159983e+15, -2.00159983e+15, -2.00159983e+15,\n",
       "        -2.00159983e+15, -2.00159983e+15, -2.00159983e+15]])"
      ]
     },
     "execution_count": 46,
     "metadata": {},
     "output_type": "execute_result"
    }
   ],
   "source": [
    "# np.invert(terms0)\n",
    "np.linalg.inv(terms0)"
   ]
  },
  {
   "cell_type": "code",
   "execution_count": 45,
   "metadata": {},
   "outputs": [
    {
     "name": "stdout",
     "output_type": "stream",
     "text": [
      "[-4.666666666666667, 11.0, 9.333333333333334, 0.6666666666666666, -9.333333333333334, -7.0]\n"
     ]
    }
   ],
   "source": [
    "print(solutions0)"
   ]
  },
  {
   "cell_type": "code",
   "execution_count": 36,
   "metadata": {},
   "outputs": [
    {
     "name": "stdout",
     "output_type": "stream",
     "text": [
      "[[-1.          0.33333333  0.33333333  0.33333333  0.          0.        ]\n",
      " [ 0.33333333 -1.          0.          0.          0.33333333  0.33333333]\n",
      " [ 0.33333333  0.         -1.          0.33333333  0.33333333  0.        ]\n",
      " [ 0.33333333  0.          0.33333333 -1.          0.          0.33333333]\n",
      " [ 0.          0.33333333  0.33333333  0.         -1.          0.33333333]\n",
      " [ 0.          0.33333333  0.          0.33333333  0.33333333 -1.        ]]\n",
      "[-4.66666667 11.          9.33333333  0.66666667 -9.33333333 -7.        ]\n",
      "[ 0.57037037 -5.62962963 -6.56296296 -0.0962963   7.83703704  7.7037037 ]\n"
     ]
    }
   ],
   "source": [
    "array1 = np.array(terms0)\n",
    "array2 = np.array(solutions0)\n",
    "solutions = np.linalg.solve(array1, array2)\n",
    "# solutions = np.linalg.lstsq(array1, array2)\n",
    "print(array1)\n",
    "print(array2)\n",
    "print(solutions)"
   ]
  },
  {
   "cell_type": "code",
   "execution_count": 37,
   "metadata": {},
   "outputs": [],
   "source": [
    "rankings = list(zip([teams[team].name for team in teams.keys()], [solution for solution in solutions]))"
   ]
  },
  {
   "cell_type": "code",
   "execution_count": 38,
   "metadata": {},
   "outputs": [
    {
     "name": "stdout",
     "output_type": "stream",
     "text": [
      "Rank\tTeam\tScore\n",
      "1\tEugene\t7.84\n",
      "2\tFairbanks\t7.70\n",
      "3\tAtlanta\t0.57\n",
      "4\tDallas\t-0.10\n",
      "5\tBoston\t-5.63\n",
      "6\tChicago\t-6.56\n"
     ]
    }
   ],
   "source": [
    "#print output\n",
    "print(\"Rank\\tTeam\\tScore\")\n",
    "rankings = list(zip([teams[team].name for team in teams.keys()], [ solution for solution in solutions]))\n",
    "# print(rankings)\n",
    "for rank, pair in list(zip(range(1,len(rankings)+1), sorted(rankings, reverse = True, key = lambda x: x[1]))):\n",
    "    print('{}\\t{}\\t{:.2f}'.format(rank,pair[0],pair[1]))"
   ]
  },
  {
   "cell_type": "code",
   "execution_count": 39,
   "metadata": {},
   "outputs": [
    {
     "name": "stdout",
     "output_type": "stream",
     "text": [
      "Atlanta 4.666666666666667\n",
      "Boston -11.0\n",
      "Chicago -9.333333333333334\n",
      "Dallas -0.6666666666666666\n",
      "Eugene 9.333333333333334\n",
      "Fairbanks 7.0\n"
     ]
    }
   ],
   "source": [
    "for team in teams.keys():\n",
    "    print(teams[team].name, teams[team].spread)"
   ]
  },
  {
   "cell_type": "code",
   "execution_count": 41,
   "metadata": {},
   "outputs": [
    {
     "data": {
      "text/plain": [
       "array([-4.66666667, 11.        ,  9.33333333,  0.66666667, -9.33333333,\n",
       "       -7.        ])"
      ]
     },
     "execution_count": 41,
     "metadata": {},
     "output_type": "execute_result"
    }
   ],
   "source": [
    "np.dot(terms0, solutions)"
   ]
  },
  {
   "cell_type": "code",
   "execution_count": null,
   "metadata": {},
   "outputs": [],
   "source": [
    "np.allclose(np.dot(terms0, solutions), solutions0)"
   ]
  },
  {
   "cell_type": "code",
   "execution_count": 42,
   "metadata": {},
   "outputs": [],
   "source": [
    "solutions2 = [24.33, -30.67, -24, -4.33, 24, 10.67]"
   ]
  },
  {
   "cell_type": "code",
   "execution_count": 43,
   "metadata": {},
   "outputs": [
    {
     "data": {
      "text/plain": [
       "array([-43.99666667,  50.33666667,  38.66666667,   7.99666667,\n",
       "       -38.66666667, -14.33666667])"
      ]
     },
     "execution_count": 43,
     "metadata": {},
     "output_type": "execute_result"
    }
   ],
   "source": [
    "np.dot(terms0, solutions2)"
   ]
  },
  {
   "cell_type": "code",
   "execution_count": null,
   "metadata": {},
   "outputs": [],
   "source": []
  }
 ],
 "metadata": {
  "kernelspec": {
   "display_name": "Python 3",
   "language": "python",
   "name": "python3"
  },
  "language_info": {
   "codemirror_mode": {
    "name": "ipython",
    "version": 3
   },
   "file_extension": ".py",
   "mimetype": "text/x-python",
   "name": "python",
   "nbconvert_exporter": "python",
   "pygments_lexer": "ipython3",
   "version": "3.6.5"
  }
 },
 "nbformat": 4,
 "nbformat_minor": 2
}

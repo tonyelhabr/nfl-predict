{
 "cells": [
  {
   "cell_type": "code",
   "execution_count": 21,
   "metadata": {
    "collapsed": true
   },
   "outputs": [],
   "source": [
    "import csv\n",
    "import numpy as np\n",
    "from collections import OrderedDict"
   ]
  },
  {
   "cell_type": "code",
   "execution_count": 28,
   "metadata": {
    "collapsed": true
   },
   "outputs": [],
   "source": [
    "filepath = 'data-raw/srs-example.csv'\n",
    "headers = True"
   ]
  },
  {
   "cell_type": "code",
   "execution_count": 29,
   "metadata": {
    "code_folding": [],
    "collapsed": true
   },
   "outputs": [],
   "source": [
    "def mean(list):\n",
    "    return (float(sum(list))/len(list))\n",
    "\n",
    "class Team(object):\n",
    "    def __init__(self, name, spreads, opponents):\n",
    "        self.name = name\n",
    "        self.spreads = spreads\n",
    "        self.opponents = opponents\n",
    "\n",
    "    def set_average_spread(self):\n",
    "        self.spread = mean(self.spreads)"
   ]
  },
  {
   "cell_type": "code",
   "execution_count": 30,
   "metadata": {},
   "outputs": [],
   "source": [
    "csvfile = open(filepath, 'r')\n",
    "gamereader = csv.reader(csvfile, dialect = 'excel')\n",
    "if headers:\n",
    "    next(gamereader)\n",
    "\n",
    "#store all teams in a dict as \"team name\": team object\n",
    "# teams = {}\n",
    "teams = OrderedDict()\n",
    "\n",
    "#loop through games and construct team objects\n",
    "for game in gamereader:\n",
    "    t1 = game[0]\n",
    "    t2 = game[1]\n",
    "    # print(t1, t2)\n",
    "    t1spread = int(game[2]) - int(game[3])\n",
    "    t2spread = -t1spread\n",
    "\n",
    "    if t1 in teams:\n",
    "        teams[t1].spreads.append(t1spread)\n",
    "        teams[t1].opponents.append(t2)\n",
    "    else:\n",
    "        teams[t1] = Team(t1, [t1spread], [t2])\n",
    "\n",
    "    if t2 in teams:\n",
    "        teams[t2].spreads.append(t2spread)\n",
    "        teams[t2].opponents.append(t1)\n",
    "    else:\n",
    "        teams[t2] = Team(t2, [t2spread], [t1])\n",
    "\n",
    "csvfile.close()\n",
    "\n",
    "#calculate the means\n",
    "for team in teams.keys():\n",
    "    teams[team].set_average_spread()"
   ]
  },
  {
   "cell_type": "code",
   "execution_count": 31,
   "metadata": {},
   "outputs": [
    {
     "name": "stdout",
     "output_type": "stream",
     "text": [
      "Atlanta 4.666666666666667\n",
      "Boston -11.0\n",
      "Chicago -9.333333333333334\n",
      "Dallas -0.6666666666666666\n",
      "Eugene 9.333333333333334\n",
      "Fairbanks 7.0\n"
     ]
    }
   ],
   "source": [
    "for team in teams.keys():\n",
    "    print(teams[team].name, teams[team].spread)"
   ]
  },
  {
   "cell_type": "code",
   "execution_count": 32,
   "metadata": {
    "collapsed": true
   },
   "outputs": [],
   "source": [
    "#first matrix with the coefficients of each of the variables\n",
    "terms = []\n",
    "#seccond matrix with the constant term (-average spread)\n",
    "solutions = []\n",
    "for team in teams.keys():\n",
    "    #add in a row for each team\n",
    "    row = []\n",
    "\n",
    "    #rating = average spread + average opponent rating\n",
    "    #-> -average spread = -rating + average opponent rating\n",
    "    #-> -average spread = -rating + \n",
    "    #(number of opponents/1) * (opponent 1 rating+opponent 2 rating...)\n",
    "    #each row of the matrix describes right side equation\n",
    "    for opp in teams.keys():\n",
    "        if opp == teams[team].name:\n",
    "            row.append(-1)\n",
    "        elif opp in teams[team].opponents:\n",
    "            row.append(1.0/len(teams[team].opponents))\n",
    "        else:\n",
    "            row.append(0)\n",
    "    terms.append(row)\n",
    "\n",
    "    #each row of this matrix describes the left side of the above equation\n",
    "    solutions.append(-teams[team].spread)"
   ]
  },
  {
   "cell_type": "code",
   "execution_count": 33,
   "metadata": {},
   "outputs": [],
   "source": [
    "# print(terms)"
   ]
  },
  {
   "cell_type": "code",
   "execution_count": 20,
   "metadata": {},
   "outputs": [
    {
     "name": "stdout",
     "output_type": "stream",
     "text": [
      "[11.0, -4.666666666666667, 0.6666666666666666, 9.333333333333334, -2.0, -14.333333333333334]\n"
     ]
    }
   ],
   "source": [
    "# print(solutions)"
   ]
  },
  {
   "cell_type": "code",
   "execution_count": 34,
   "metadata": {},
   "outputs": [
    {
     "name": "stdout",
     "output_type": "stream",
     "text": [
      "[[-1.          0.33333333  0.33333333  0.33333333  0.          0.        ]\n",
      " [ 0.33333333 -1.          0.          0.          0.33333333  0.33333333]\n",
      " [ 0.33333333  0.         -1.          0.33333333  0.33333333  0.        ]\n",
      " [ 0.33333333  0.          0.33333333 -1.          0.          0.33333333]\n",
      " [ 0.          0.33333333  0.33333333  0.         -1.          0.33333333]\n",
      " [ 0.          0.33333333  0.          0.33333333  0.33333333 -1.        ]]\n",
      "[ -4.66666667  11.           9.33333333   0.66666667  -9.33333333  -7.        ]\n",
      "[-2.0962963  -8.2962963  -9.22962963 -2.76296296  5.17037037  5.03703704]\n"
     ]
    }
   ],
   "source": [
    "array1 = np.array(terms)\n",
    "array2 = np.array(solutions)\n",
    "solutions  = np.linalg.solve(array1, array2)\n",
    "print(array1)\n",
    "print(array2)\n",
    "print(solutions)"
   ]
  },
  {
   "cell_type": "code",
   "execution_count": 35,
   "metadata": {},
   "outputs": [],
   "source": [
    "rankings = list(zip([teams[team].name for team in teams.keys()], [solution for solution in solutions]))"
   ]
  },
  {
   "cell_type": "code",
   "execution_count": 36,
   "metadata": {},
   "outputs": [
    {
     "name": "stdout",
     "output_type": "stream",
     "text": [
      "[('Atlanta', -2.0962962962962948), ('Boston', -8.2962962962962958), ('Chicago', -9.2296296296296276), ('Dallas', -2.7629629629629622), ('Eugene', 5.1703703703703692), ('Fairbanks', 5.0370370370370363)]\n"
     ]
    }
   ],
   "source": [
    "print(rankings)"
   ]
  },
  {
   "cell_type": "code",
   "execution_count": null,
   "metadata": {
    "collapsed": true
   },
   "outputs": [],
   "source": []
  }
 ],
 "metadata": {
  "kernelspec": {
   "display_name": "Python 3",
   "language": "python",
   "name": "python3"
  },
  "language_info": {
   "codemirror_mode": {
    "name": "ipython",
    "version": 3
   },
   "file_extension": ".py",
   "mimetype": "text/x-python",
   "name": "python",
   "nbconvert_exporter": "python",
   "pygments_lexer": "ipython3",
   "version": "3.6.1"
  }
 },
 "nbformat": 4,
 "nbformat_minor": 2
}
